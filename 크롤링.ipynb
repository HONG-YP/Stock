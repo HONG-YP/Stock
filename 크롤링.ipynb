{
 "cells": [
  {
   "cell_type": "code",
   "execution_count": 3,
   "metadata": {},
   "outputs": [],
   "source": [
    "import pandas as pd\n",
    "import numpy as np\n",
    "from bs4 import BeautifulSoup\n",
    "import selenium\n",
    "import requests\n",
    "\n",
    "from selenium import webdriver\n",
    "import time\n",
    "from tqdm import tqdm\n",
    "\n",
    "import warnings\n",
    "\n",
    "warnings.filterwarnings('ignore')\n",
    "\n",
    "driver = webdriver.Chrome(executable_path=r'C:\\Users\\HONG\\Desktop\\HONGYP\\트레이딩\\chromedriver_win32 (7)\\chromedriver.exe')"
   ]
  },
  {
   "cell_type": "markdown",
   "metadata": {},
   "source": [
    "# 거래가 및 기본정보 크롤링"
   ]
  },
  {
   "cell_type": "code",
   "execution_count": 4,
   "metadata": {},
   "outputs": [],
   "source": [
    "url = 'https://finance.naver.com/item/sise_day.nhn?code=012450&page='\n",
    "driver.get(url)"
   ]
  },
  {
   "cell_type": "code",
   "execution_count": 6,
   "metadata": {},
   "outputs": [
    {
     "data": {
      "text/plain": [
       "['https://finance.naver.com/item/sise_day.nhn?code=012450&page=1',\n",
       " 'https://finance.naver.com/item/sise_day.nhn?code=012450&page=2',\n",
       " 'https://finance.naver.com/item/sise_day.nhn?code=012450&page=3',\n",
       " 'https://finance.naver.com/item/sise_day.nhn?code=012450&page=4',\n",
       " 'https://finance.naver.com/item/sise_day.nhn?code=012450&page=5']"
      ]
     },
     "execution_count": 6,
     "metadata": {},
     "output_type": "execute_result"
    }
   ],
   "source": [
    "url_list = []\n",
    "\n",
    "for i in range(1, 144):\n",
    "    url_list.append(url + str(i))\n",
    "    \n",
    "url_list[:5]"
   ]
  },
  {
   "cell_type": "code",
   "execution_count": 7,
   "metadata": {},
   "outputs": [
    {
     "data": {
      "text/plain": [
       "'2021.05.21'"
      ]
     },
     "execution_count": 7,
     "metadata": {},
     "output_type": "execute_result"
    }
   ],
   "source": [
    "driver.find_element_by_xpath('/html/body/table[1]/tbody/tr[15]/td[1]/span').text"
   ]
  },
  {
   "cell_type": "code",
   "execution_count": 8,
   "metadata": {},
   "outputs": [],
   "source": [
    "일자_list = []\n",
    "종가_list = []\n",
    "전일비_list = []\n",
    "시가_list = []\n",
    "고가_list = []\n",
    "저가_list = []\n",
    "거래량_list = []\n",
    "\n",
    "for i in range(3, 8):\n",
    "    일자_list.append('/html/body/table[1]/tbody/tr['+str(i)+']/td[1]/span')\n",
    "for i in range(11, 16):\n",
    "    일자_list.append('/html/body/table[1]/tbody/tr['+str(i)+']/td[1]/span')\n",
    "    \n",
    "for i in range(3, 8):\n",
    "    종가_list.append('/html/body/table[1]/tbody/tr['+str(i)+']/td[2]/span')\n",
    "for i in range(11, 16):\n",
    "    종가_list.append('/html/body/table[1]/tbody/tr['+str(i)+']/td[2]/span')\n",
    "    \n",
    "for i in range(3, 8):\n",
    "    전일비_list.append('/html/body/table[1]/tbody/tr['+str(i)+']/td[3]/span')\n",
    "for i in range(11, 16):\n",
    "    전일비_list.append('/html/body/table[1]/tbody/tr['+str(i)+']/td[3]/span')\n",
    "    \n",
    "for i in range(3, 8):\n",
    "    시가_list.append('/html/body/table[1]/tbody/tr['+str(i)+']/td[4]/span')\n",
    "for i in range(11, 16):\n",
    "    시가_list.append('/html/body/table[1]/tbody/tr['+str(i)+']/td[4]/span')\n",
    "    \n",
    "for i in range(3, 8):\n",
    "    고가_list.append('/html/body/table[1]/tbody/tr['+str(i)+']/td[5]/span')\n",
    "for i in range(11, 16):\n",
    "    고가_list.append('/html/body/table[1]/tbody/tr['+str(i)+']/td[5]/span')\n",
    "    \n",
    "for i in range(3, 8):\n",
    "    저가_list.append('/html/body/table[1]/tbody/tr['+str(i)+']/td[6]/span')\n",
    "for i in range(11, 16):\n",
    "    저가_list.append('/html/body/table[1]/tbody/tr['+str(i)+']/td[6]/span')\n",
    "    \n",
    "for i in range(3, 8):\n",
    "    거래량_list.append('/html/body/table[1]/tbody/tr['+str(i)+']/td[7]/span')\n",
    "for i in range(11, 16):\n",
    "    거래량_list.append('/html/body/table[1]/tbody/tr['+str(i)+']/td[7]/span')"
   ]
  },
  {
   "cell_type": "code",
   "execution_count": 9,
   "metadata": {},
   "outputs": [
    {
     "name": "stderr",
     "output_type": "stream",
     "text": [
      "100%|████████████████████████████████████████████████████████████████████████████████| 143/143 [03:33<00:00,  1.50s/it]\n"
     ]
    }
   ],
   "source": [
    "result_list = []\n",
    "\n",
    "for i in tqdm(range(len(url_list))):\n",
    "    driver.get(url_list[i])\n",
    "    time.sleep(0.5)\n",
    "    \n",
    "    html = driver.page_source\n",
    "    soup = BeautifulSoup(html, 'lxml')\n",
    "    \n",
    "    for i in range(10):\n",
    "        일자 = driver.find_element_by_xpath(일자_list[i]).text\n",
    "        종가 = driver.find_element_by_xpath(종가_list[i]).text\n",
    "        전일비 = driver.find_element_by_xpath(전일비_list[i]).text\n",
    "        시가 = driver.find_element_by_xpath(시가_list[i]).text\n",
    "        고가 = driver.find_element_by_xpath(고가_list[i]).text\n",
    "        저가 = driver.find_element_by_xpath(저가_list[i]).text\n",
    "        거래량 = driver.find_element_by_xpath(거래량_list[i]).text\n",
    "\n",
    "        result = 일자, 종가, 전일비, 시가, 고가, 저가, 거래량\n",
    "        result_list.append(result)"
   ]
  },
  {
   "cell_type": "code",
   "execution_count": 10,
   "metadata": {},
   "outputs": [],
   "source": [
    "한화에어로스페이스 = pd.DataFrame(result_list, columns = ['일자', '종가', '전일비', '시가', '고가', '저가', '거래량'])"
   ]
  },
  {
   "cell_type": "code",
   "execution_count": 11,
   "metadata": {},
   "outputs": [],
   "source": [
    "한화에어로스페이스.to_csv('한화에어로스페이스.csv', index = False)"
   ]
  },
  {
   "cell_type": "markdown",
   "metadata": {},
   "source": [
    "## 외인 / 기관 순매매"
   ]
  },
  {
   "cell_type": "code",
   "execution_count": 12,
   "metadata": {},
   "outputs": [],
   "source": [
    "driver = webdriver.Chrome(executable_path=r'C:\\Users\\HONG\\Desktop\\HONGYP\\트레이딩\\chromedriver_win32 (7)\\chromedriver.exe')"
   ]
  },
  {
   "cell_type": "code",
   "execution_count": 13,
   "metadata": {},
   "outputs": [],
   "source": [
    "url = 'https://finance.naver.com/item/frgn.nhn?code=012450&page='\n",
    "driver.get(url)"
   ]
  },
  {
   "cell_type": "code",
   "execution_count": 14,
   "metadata": {},
   "outputs": [
    {
     "data": {
      "text/plain": [
       "['https://finance.naver.com/item/frgn.nhn?code=012450&page=1',\n",
       " 'https://finance.naver.com/item/frgn.nhn?code=012450&page=2',\n",
       " 'https://finance.naver.com/item/frgn.nhn?code=012450&page=3',\n",
       " 'https://finance.naver.com/item/frgn.nhn?code=012450&page=4',\n",
       " 'https://finance.naver.com/item/frgn.nhn?code=012450&page=5']"
      ]
     },
     "execution_count": 14,
     "metadata": {},
     "output_type": "execute_result"
    }
   ],
   "source": [
    "url_list = []\n",
    "\n",
    "for i in range(1, 73):\n",
    "    url_list.append(url + str(i))\n",
    "    \n",
    "url_list[:5]"
   ]
  },
  {
   "cell_type": "code",
   "execution_count": 15,
   "metadata": {},
   "outputs": [
    {
     "data": {
      "text/plain": [
       "'-37,182'"
      ]
     },
     "execution_count": 15,
     "metadata": {},
     "output_type": "execute_result"
    }
   ],
   "source": [
    "driver.find_element_by_xpath('//*[@id=\"content\"]/div[2]/table[1]/tbody/tr[4]/td[7]/span').text"
   ]
  },
  {
   "cell_type": "code",
   "execution_count": 16,
   "metadata": {},
   "outputs": [],
   "source": [
    "기관_list = []\n",
    "외인_list = []\n",
    "\n",
    "for i in range(4, 9):\n",
    "    기관_list.append('//*[@id=\"content\"]/div[2]/table[1]/tbody/tr['+str(i)+']/td[6]/span')\n",
    "for i in range(12, 17):\n",
    "    기관_list.append('//*[@id=\"content\"]/div[2]/table[1]/tbody/tr['+str(i)+']/td[6]/span')\n",
    "for i in range(20, 25):\n",
    "    기관_list.append('//*[@id=\"content\"]/div[2]/table[1]/tbody/tr['+str(i)+']/td[6]/span')\n",
    "for i in range(28, 33):\n",
    "    기관_list.append('//*[@id=\"content\"]/div[2]/table[1]/tbody/tr['+str(i)+']/td[6]/span')\n",
    "    \n",
    "for i in range(4, 9):\n",
    "    외인_list.append('//*[@id=\"content\"]/div[2]/table[1]/tbody/tr['+str(i)+']/td[7]/span')\n",
    "for i in range(12, 17):\n",
    "    외인_list.append('//*[@id=\"content\"]/div[2]/table[1]/tbody/tr['+str(i)+']/td[7]/span')\n",
    "for i in range(20, 25):\n",
    "    외인_list.append('//*[@id=\"content\"]/div[2]/table[1]/tbody/tr['+str(i)+']/td[7]/span')\n",
    "for i in range(28, 33):\n",
    "    외인_list.append('//*[@id=\"content\"]/div[2]/table[1]/tbody/tr['+str(i)+']/td[7]/span')"
   ]
  },
  {
   "cell_type": "code",
   "execution_count": 17,
   "metadata": {},
   "outputs": [
    {
     "name": "stderr",
     "output_type": "stream",
     "text": [
      "100%|██████████████████████████████████████████████████████████████████████████████████| 72/72 [01:54<00:00,  1.58s/it]\n"
     ]
    }
   ],
   "source": [
    "result_list = []\n",
    "\n",
    "for i in tqdm(range(len(url_list))):\n",
    "    driver.get(url_list[i])\n",
    "    time.sleep(0.5)\n",
    "    \n",
    "    html = driver.page_source\n",
    "    soup = BeautifulSoup(html, 'lxml')\n",
    "    \n",
    "    for i in range(20):\n",
    "        기관 = driver.find_element_by_xpath(기관_list[i]).text\n",
    "        외인 = driver.find_element_by_xpath(외인_list[i]).text\n",
    "\n",
    "        result = 기관, 외인\n",
    "        result_list.append(result)"
   ]
  },
  {
   "cell_type": "code",
   "execution_count": 18,
   "metadata": {},
   "outputs": [],
   "source": [
    "외인기관매매량 = pd.DataFrame(result_list, columns = ['기관매매량', '외인매매량'])"
   ]
  },
  {
   "cell_type": "code",
   "execution_count": 19,
   "metadata": {},
   "outputs": [],
   "source": [
    "외인기관매매량 = 외인기관매매량.iloc[:1430,:]"
   ]
  },
  {
   "cell_type": "code",
   "execution_count": 20,
   "metadata": {},
   "outputs": [],
   "source": [
    "외인기관매매량.to_csv('한화에어로_외인기관매매량.csv', index = False)"
   ]
  }
 ],
 "metadata": {
  "kernelspec": {
   "display_name": "Python 3",
   "language": "python",
   "name": "python3"
  },
  "language_info": {
   "codemirror_mode": {
    "name": "ipython",
    "version": 3
   },
   "file_extension": ".py",
   "mimetype": "text/x-python",
   "name": "python",
   "nbconvert_exporter": "python",
   "pygments_lexer": "ipython3",
   "version": "3.7.3"
  }
 },
 "nbformat": 4,
 "nbformat_minor": 2
}
